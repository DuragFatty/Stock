{
 "cells": [
  {
   "cell_type": "code",
   "execution_count": 15,
   "id": "e3212e6a",
   "metadata": {},
   "outputs": [
    {
     "data": {
      "text/html": [
       "<div>\n",
       "<style scoped>\n",
       "    .dataframe tbody tr th:only-of-type {\n",
       "        vertical-align: middle;\n",
       "    }\n",
       "\n",
       "    .dataframe tbody tr th {\n",
       "        vertical-align: top;\n",
       "    }\n",
       "\n",
       "    .dataframe thead th {\n",
       "        text-align: right;\n",
       "    }\n",
       "</style>\n",
       "<table border=\"1\" class=\"dataframe\">\n",
       "  <thead>\n",
       "    <tr style=\"text-align: right;\">\n",
       "      <th>stock_id</th>\n",
       "      <th>0050</th>\n",
       "      <th>0051</th>\n",
       "      <th>0052</th>\n",
       "      <th>0053</th>\n",
       "      <th>0054</th>\n",
       "      <th>0055</th>\n",
       "      <th>0056</th>\n",
       "      <th>0057</th>\n",
       "      <th>0058</th>\n",
       "      <th>0059</th>\n",
       "      <th>...</th>\n",
       "      <th>9944</th>\n",
       "      <th>9945</th>\n",
       "      <th>9946</th>\n",
       "      <th>9949</th>\n",
       "      <th>9950</th>\n",
       "      <th>9951</th>\n",
       "      <th>9955</th>\n",
       "      <th>9958</th>\n",
       "      <th>9960</th>\n",
       "      <th>9962</th>\n",
       "    </tr>\n",
       "    <tr>\n",
       "      <th>date</th>\n",
       "      <th></th>\n",
       "      <th></th>\n",
       "      <th></th>\n",
       "      <th></th>\n",
       "      <th></th>\n",
       "      <th></th>\n",
       "      <th></th>\n",
       "      <th></th>\n",
       "      <th></th>\n",
       "      <th></th>\n",
       "      <th></th>\n",
       "      <th></th>\n",
       "      <th></th>\n",
       "      <th></th>\n",
       "      <th></th>\n",
       "      <th></th>\n",
       "      <th></th>\n",
       "      <th></th>\n",
       "      <th></th>\n",
       "      <th></th>\n",
       "      <th></th>\n",
       "    </tr>\n",
       "  </thead>\n",
       "  <tbody>\n",
       "    <tr>\n",
       "      <th>2016-11-14</th>\n",
       "      <td>NaN</td>\n",
       "      <td>NaN</td>\n",
       "      <td>NaN</td>\n",
       "      <td>NaN</td>\n",
       "      <td>NaN</td>\n",
       "      <td>NaN</td>\n",
       "      <td>NaN</td>\n",
       "      <td>NaN</td>\n",
       "      <td>NaN</td>\n",
       "      <td>NaN</td>\n",
       "      <td>...</td>\n",
       "      <td>0.731198</td>\n",
       "      <td>1.436075</td>\n",
       "      <td>0.600574</td>\n",
       "      <td>NaN</td>\n",
       "      <td>NaN</td>\n",
       "      <td>NaN</td>\n",
       "      <td>0.767916</td>\n",
       "      <td>0.777005</td>\n",
       "      <td>NaN</td>\n",
       "      <td>NaN</td>\n",
       "    </tr>\n",
       "  </tbody>\n",
       "</table>\n",
       "<p>1 rows × 1716 columns</p>\n",
       "</div>"
      ],
      "text/plain": [
       "stock_id    0050  0051  0052  0053  0054  0055  0056  0057  0058  0059  ...  \\\n",
       "date                                                                    ...   \n",
       "2016-11-14   NaN   NaN   NaN   NaN   NaN   NaN   NaN   NaN   NaN   NaN  ...   \n",
       "\n",
       "stock_id        9944      9945      9946  9949  9950  9951      9955  \\\n",
       "date                                                                   \n",
       "2016-11-14  0.731198  1.436075  0.600574   NaN   NaN   NaN  0.767916   \n",
       "\n",
       "stock_id        9958  9960  9962  \n",
       "date                              \n",
       "2016-11-14  0.777005   NaN   NaN  \n",
       "\n",
       "[1 rows x 1716 columns]"
      ]
     },
     "execution_count": 15,
     "metadata": {},
     "output_type": "execute_result"
    }
   ],
   "source": [
    "from finlab.data import Data\n",
    "import datetime\n",
    "data = Data()\n",
    "data.date = datetime.date(2017,1,5)\n",
    "#找出2017,1,5之前的資料\n",
    "#預設為data.date = datetime.datetime.now().date()\n",
    "\n",
    "\n",
    "rev = data.get('當月營收',12)\n",
    "股本 = data.get('普通股股本', 2)\n",
    "#get完之後才會形成dataframe\n",
    "\n",
    "# def 股價淨值比(n):\n",
    "#     股東權益 = data.get('歸屬於母公司業主之權益合計',1)\n",
    "#     股本 = data.get('普通股股本', n)\n",
    "#     price = data.get('收盤價', 100*n)\n",
    "#     return price.reindex(股本.index, method='ffill')/(股東權益 / 股本)/10\n",
    "        #只要跟股本那天的股價就好\n",
    "def 股價淨值比(n):\n",
    "    股東權益 = data.get('歸屬於母公司業主之權益合計',1)\n",
    "    股本 = data.get('普通股股本', n)\n",
    "    price = data.get('收盤價', 100*n)\n",
    "    #100*n是為了確保可以搜集到（股本.index的資料），如果設定為n，股價出來的日期為2017-01-05\n",
    "    return price.reindex(股本.index, method='ffill')/(股東權益 / 股本)/10\n",
    "    #ffill是下面的資料若是NaN，則由上面一行資料填補\n",
    "\n",
    "\n",
    "pb = 股價淨值比(1)   \n",
    "pb\n",
    "\n"
   ]
  },
  {
   "cell_type": "markdown",
   "id": "ac9ed282",
   "metadata": {},
   "source": [
    "<font color=steel size=5 face=雅黑>回測：</font>\n",
    "\n"
   ]
  },
  {
   "cell_type": "code",
   "execution_count": 16,
   "id": "ebe9b449",
   "metadata": {},
   "outputs": [
    {
     "name": "stderr",
     "output_type": "stream",
     "text": [
      "/var/folders/nl/wtpbztss01s7qh4c59cl2ppw0000gn/T/ipykernel_80471/1965468078.py:24: FutureWarning: Index.__and__ operating as a set operation is deprecated, in the future this will be a logical operation matching Series.__and__.  Use index.intersection(other) instead\n",
      "  price_已篩選 = price[condition1& condition2 ]\n"
     ]
    },
    {
     "data": {
      "text/plain": [
       "<AxesSubplot:xlabel='date'>"
      ]
     },
     "execution_count": 16,
     "metadata": {},
     "output_type": "execute_result"
    },
    {
     "data": {
      "image/png": "[encoded data removed]",
      "text/plain": [
       "<Figure size 432x288 with 1 Axes>"
      ]
     },
     "metadata": {
      "needs_background": "light"
     },
     "output_type": "display_data"
    }
   ],
   "source": [
    "data.date = datetime.date(2018,1,5)\n",
    "price = data.get('收盤價',1000)\n",
    "#一年有大約250幾天交易日\n",
    "\n",
    "def select_range(df):\n",
    "    cond1=df.index.get_level_values('date') <= '2018'\n",
    "    cond2=df.index.get_level_values('date') >= '2017'\n",
    "    df=df[cond1 & cond2]\n",
    "    return df\n",
    "#用此篩選年份\n",
    "\n",
    "price = select_range(price)\n",
    "\n",
    "#condition = pb[pb.columns[pb.iloc[0]<0.5]]\n",
    "#df.columns用在true,false選擇上，但是如果已經有一個index列值，則使用df[condition]\n",
    "#pb.columns[pb.iloc[0]<0.5]會回傳一個一個index\n",
    "#再將index傳給pb成為新的dataframes\n",
    "\n",
    "condition1 = pb.columns[pb.iloc[0]<0.5]\n",
    "#condition為一個index，以此找出pb值小於5\n",
    "\n",
    "condition2 = rev.columns[rev.iloc[-3:].mean() > rev.iloc[-12:].mean()]\n",
    "\n",
    "price_已篩選 = price[condition1& condition2 ]\n",
    "#將index回傳給原本的price做篩選\n",
    "\n",
    "\n",
    "\n",
    "\n",
    "(price_已篩選 / price_已篩選.iloc[0]).mean(axis = 1).plot()\n",
    "#此方法才是等同每個股票投一樣多的錢\n",
    "#(price_已篩選 / price_已篩選.iloc[0]) 因為是dataframes / dataframes ，所以會出現新的dataframes \n",
    "#注：dataframes可以和數字、series、dataframes做運算（以座標為運算，沒有的值輸入NaN）"
   ]
  },
  {
   "cell_type": "markdown",
   "id": "4c97f5c7",
   "metadata": {},
   "source": [
    "<font color=steel size=5 face=雅黑>以上回測可知收益約為25%</font>"
   ]
  }
 ],
 "metadata": {
  "kernelspec": {
   "display_name": "Python 3 (ipykernel)",
   "language": "python",
   "name": "python3"
  },
  "language_info": {
   "codemirror_mode": {
    "name": "ipython",
    "version": 3
   },
   "file_extension": ".py",
   "mimetype": "text/x-python",
   "name": "python",
   "nbconvert_exporter": "python",
   "pygments_lexer": "ipython3",
   "version": "3.9.7"
  }
 },
 "nbformat": 4,
 "nbformat_minor": 5
}
