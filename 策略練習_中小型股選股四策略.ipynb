{
 "cells": [
  {
   "cell_type": "code",
   "execution_count": 10,
   "id": "61590e66",
   "metadata": {},
   "outputs": [],
   "source": [
    "from finlab.data import Data\n",
    "import pandas as pd\n",
    "import datetime\n",
    "data = Data()"
   ]
  },
  {
   "cell_type": "markdown",
   "id": "ab9a046a",
   "metadata": {},
   "source": [
    "# 策略\n",
    "    * 中小型股：市值<100億\n",
    "    * 自由現金流（＝營業現金收入-投資現金流出）（＝賣東西賺的錢-更新廠房、設備得錢） > 0\n",
    "    * 營業利益成長率 ：[（當期營業利益 -  去年同期營業利益）/ 去年同期營業利益 ] * 100 % > 0\n",
    "        *  營業利益(Operating profit =Operating income  )= 營收- 銷貨(營業)成本- 營業費用  ＝毛利 -營業費用\n",
    "        * 屬於公司自比\n",
    "    * 股東權益報酬率 （ＲＯＥ）＝ 本期淨利 / 股東權益  ＝ 稅後淨利 / 權益總計\n",
    "        * 缺點：更新太慢、未考慮股價 \n",
    "        * 大部分再0~10\n",
    "    * 市值營收比（ＰＳＲ ＝price to sale ratio）= 市值 / 月營收 \n",
    "        * 越高越不好\n",
    "        * 大部分在0~1"
   ]
  },
  {
   "cell_type": "markdown",
   "id": "e625545b",
   "metadata": {},
   "source": [
    "# 條件一：公司的市值"
   ]
  },
  {
   "cell_type": "code",
   "execution_count": 11,
   "id": "afa6bf0e",
   "metadata": {},
   "outputs": [
    {
     "data": {
      "text/plain": [
       "263129734400.0"
      ]
     },
     "execution_count": 11,
     "metadata": {},
     "output_type": "execute_result"
    }
   ],
   "source": [
    "# 先拿出計算市值需要用到的財務數據\n",
    "\n",
    "股本 = data.get('股本合計', 1)\n",
    "price = data.get('收盤價', 100)\n",
    "\n",
    "# ----------- #\n",
    "# 找出當天股價  #\n",
    "# ----------- #\n",
    "\n",
    "# 新版（較簡單）：將頻率為「天」的股價，reindex 成每「季」\n",
    "# method='fill'是說，假如公佈財報那天沒有股價，則以時間往前最接近的那天為主。\n",
    "\n",
    "當天股價 = price.reindex(股本.index, method='ffill').iloc[-1]\n",
    "\n",
    "# 原本（較難）：當天股價 = price.loc[:股本.index[0]].iloc[-1]\n",
    "\n",
    "# ----------- #\n",
    "# 找出當天股本  #\n",
    "# ----------- #\n",
    "\n",
    "當天股本 = 股本.iloc[-1]\n",
    "\n",
    "# -----------  #\n",
    "# 計算市值      #\n",
    "# -----------  #\n",
    "\n",
    "# 市值 = 總股數 * 股價\n",
    "#     = （股本 * 1000） / 10 * 股價\n",
    "\n",
    "市值 = 當天股本 * 1000 / 10 * 當天股價\n",
    "市值['1101']"
   ]
  },
  {
   "cell_type": "markdown",
   "id": "ff27cd7d",
   "metadata": {},
   "source": [
    "# 條件二：自由現金流\n"
   ]
  },
  {
   "cell_type": "code",
   "execution_count": 12,
   "id": "4a1ed098",
   "metadata": {},
   "outputs": [],
   "source": [
    "# 將每季累計的財務數據，轉換成單季\n",
    "def toSeasonal(df):\n",
    "    season1 = df[df.index.month == 5]\n",
    "    season2 = df[df.index.month == 8]\n",
    "    season3 = df[df.index.month == 11]\n",
    "    season4 = df[df.index.month == 3]\n",
    "    \n",
    "    \n",
    "    season1.index = season1.index.year\n",
    "    season2.index = season2.index.year\n",
    "    season3.index = season3.index.year\n",
    "    season4.index = season4.index.year - 1\n",
    "    \n",
    "    NewSeason1 = season1\n",
    "    NewSeason2 = season2 - season1.reindex_like(season2)\n",
    "    NewSeason3 = season3 - season2.reindex_like(season3)\n",
    "    NewSeason4 = season4 - season3.reindex_like(season4)\n",
    "    \n",
    "    \n",
    "    \n",
    "    NewSeason1.index = pd.to_datetime(NewSeason1.index.astype(str) + '-05-15')\n",
    "    NewSeason2.index = pd.to_datetime(NewSeason2.index.astype(str) + '-08-14')\n",
    "    NewSeason3.index = pd.to_datetime(NewSeason3.index.astype(str) + '-11-14')\n",
    "    NewSeason4.index = pd.to_datetime((NewSeason4.index + 1).astype(str) + '-03-31')\n",
    "\n",
    "    \n",
    "    return NewSeason1.append(NewSeason2).append(NewSeason3).append(NewSeason4).sort_index()\n",
    "    \n",
    "    \n",
    "#自由現金流（＝營業現金收入+投資現金流入 )\n",
    "\n",
    "\n",
    "營業活動之現金流入 = data.get('營業活動之淨現金流入（流出）',8)\n",
    "#營業現金收入\n",
    "    \n",
    "投資活動之現金流入 = data.get('投資活動之淨現金流入（流出）', 8)    \n",
    "#投資活動之現金流入 \n",
    "\n",
    "\n",
    "投資現金流 = toSeasonal(投資活動之現金流入)\n",
    "營業現金流 = toSeasonal(營業活動之現金流入)\n",
    "#轉換成每季 \n",
    "\n",
    "\n",
    "自由現金流 = (投資現金流 + 營業現金流).iloc[-4:].sum()\n",
    "#變成一條series\n",
    "    \n"
   ]
  },
  {
   "cell_type": "markdown",
   "id": "4603bcc1",
   "metadata": {},
   "source": [
    "# 條件三：股東權益報酬率"
   ]
  },
  {
   "cell_type": "code",
   "execution_count": 13,
   "id": "38a3eba8",
   "metadata": {},
   "outputs": [
    {
     "data": {
      "text/plain": [
       "count    1753.000000\n",
       "mean        0.018414\n",
       "std         0.088967\n",
       "min        -2.076294\n",
       "25%         0.004963\n",
       "50%         0.023502\n",
       "75%         0.042453\n",
       "max         0.513252\n",
       "Name: 2022-05-15 00:00:00, dtype: float64"
      ]
     },
     "execution_count": 13,
     "metadata": {},
     "output_type": "execute_result"
    }
   ],
   "source": [
    "稅後淨利 = data.get('本期淨利（淨損）', 1)\n",
    "\n",
    "# 因為有些股東權益的名稱叫作「權益總計」有些叫作「權益總額」，所以要先將這兩個dataframe合併起來\n",
    "權益總計 = data.get('權益總計', 1)\n",
    "權益總額 = data.get('權益總額', 1)\n",
    "\n",
    "# 把它們合併起來（將「權益總計」為NaN的部分填上「權益總額」）\n",
    "權益總計.fillna(權益總額, inplace=True)\n",
    "\n",
    "股東權益報酬率 = 稅後淨利.iloc[-1] / 權益總計.iloc[-1]\n",
    "股東權益報酬率.describe()"
   ]
  },
  {
   "cell_type": "markdown",
   "id": "db7e9ac2",
   "metadata": {},
   "source": [
    "# 條件四：營業利益成長率"
   ]
  },
  {
   "cell_type": "code",
   "execution_count": 14,
   "id": "f2f91905",
   "metadata": {},
   "outputs": [
    {
     "data": {
      "text/plain": [
       "count     1708.000000\n",
       "mean        14.021841\n",
       "std        716.509396\n",
       "min      -6484.905660\n",
       "25%        -54.692829\n",
       "50%         -1.865090\n",
       "75%         47.636605\n",
       "max      17728.571429\n",
       "dtype: float64"
      ]
     },
     "execution_count": 14,
     "metadata": {},
     "output_type": "execute_result"
    }
   ],
   "source": [
    "營業利益 = data.get('營業利益（損失）', 5)\n",
    "營業利益成長率 = (營業利益.iloc[-1] / 營業利益.iloc[-5] - 1) * 100\n",
    "營業利益成長率.describe()"
   ]
  },
  {
   "cell_type": "markdown",
   "id": "84f4a630",
   "metadata": {},
   "source": [
    "# 條件五：市值營收比"
   ]
  },
  {
   "cell_type": "code",
   "execution_count": 15,
   "id": "9f4b3445",
   "metadata": {},
   "outputs": [
    {
     "data": {
      "text/plain": [
       "count       951.000000\n",
       "mean        183.367182\n",
       "std        4945.110824\n",
       "min          -3.761379\n",
       "25%           2.794852\n",
       "50%           4.804469\n",
       "75%           9.514920\n",
       "max      152380.412000\n",
       "dtype: float64"
      ]
     },
     "execution_count": 15,
     "metadata": {},
     "output_type": "execute_result"
    }
   ],
   "source": [
    "%matplotlib inline\n",
    "當月營收 = data.get('當月營收', 4) * 1000\n",
    "當季營收 = 當月營收.iloc[-4:].sum() # 取近4個月營收總和，當作一季的月營收（4也可以改變）\n",
    "市值營收比 = 市值 / 當季營收\n",
    "市值營收比.describe()"
   ]
  },
  {
   "cell_type": "markdown",
   "id": "9286b225",
   "metadata": {},
   "source": [
    "# 結合上述五個條件選股"
   ]
  },
  {
   "cell_type": "code",
   "execution_count": 18,
   "id": "14c3bc55",
   "metadata": {},
   "outputs": [
    {
     "data": {
      "text/plain": [
       "stock_id\n",
       "1108    True\n",
       "1203    True\n",
       "1217    True\n",
       "1413    True\n",
       "1452    True\n",
       "1457    True\n",
       "1516    True\n",
       "1517    True\n",
       "1527    True\n",
       "1539    True\n",
       "1568    True\n",
       "1612    True\n",
       "1615    True\n",
       "1730    True\n",
       "1906    True\n",
       "2012    True\n",
       "2032    True\n",
       "2062    True\n",
       "2243    True\n",
       "2321    True\n",
       "2364    True\n",
       "2369    True\n",
       "2399    True\n",
       "2453    True\n",
       "2468    True\n",
       "2543    True\n",
       "2546    True\n",
       "2601    True\n",
       "2936    True\n",
       "3043    True\n",
       "3046    True\n",
       "3052    True\n",
       "3338    True\n",
       "3437    True\n",
       "3535    True\n",
       "4306    True\n",
       "4552    True\n",
       "4557    True\n",
       "4960    True\n",
       "4989    True\n",
       "5258    True\n",
       "5284    True\n",
       "5533    True\n",
       "5906    True\n",
       "6128    True\n",
       "6152    True\n",
       "6192    True\n",
       "6197    True\n",
       "6215    True\n",
       "6281    True\n",
       "6438    True\n",
       "6754    True\n",
       "6776    True\n",
       "8070    True\n",
       "8271    True\n",
       "9927    True\n",
       "dtype: bool"
      ]
     },
     "execution_count": 18,
     "metadata": {},
     "output_type": "execute_result"
    }
   ],
   "source": [
    "condition1 = (市值 < 10000000000)\n",
    "condition2 = 自由現金流 > 0\n",
    "condition3 = 股東權益報酬率 > 0\n",
    "condition4 = 營業利益成長率 > 0\n",
    "condition5 = 市值營收比 < 5\n",
    "\n",
    "# 將條件做交集（&）\n",
    "select_stock = condition1 & condition2 & condition3 & condition4 & condition5 \n",
    "\n",
    "# 選出的股票\n",
    "select_stock[select_stock]"
   ]
  },
  {
   "cell_type": "markdown",
   "id": "7190d2cb",
   "metadata": {},
   "source": [
    "# 綜合上述策略：mystrategy 做成function"
   ]
  },
  {
   "cell_type": "code",
   "execution_count": 19,
   "id": "60f90c61",
   "metadata": {},
   "outputs": [],
   "source": [
    "def mystrategy(data):\n",
    "    \n",
    "    股本 = data.get('股本合計', 1)\n",
    "    price = data.get('收盤價', 120)\n",
    "    當天股價 = price[:股本.index[-1]].iloc[-1]\n",
    "    當天股本 = 股本.iloc[-1]\n",
    "    市值 = 當天股本 * 當天股價 / 10 * 1000\n",
    "   \n",
    "\n",
    "    df1 = toSeasonal(data.get('投資活動之淨現金流入（流出）', 5))\n",
    "    df2 = toSeasonal(data.get('營業活動之淨現金流入（流出）', 5))\n",
    "    自由現金流 = (df1 + df2).iloc[-4:].mean()\n",
    "    \n",
    "    \n",
    "    稅後淨利 = data.get('本期淨利（淨損）', 1)\n",
    "    \n",
    "    # 股東權益，有兩個名稱，有些公司叫做權益總計，有些叫做權益總額\n",
    "    # 所以得把它們抓出來\n",
    "    權益總計 = data.get('權益總計', 1)\n",
    "    權益總額 = data.get('權益總額', 1)\n",
    "    \n",
    "    # 並且把它們合併起來\n",
    "    權益總計.fillna(權益總額, inplace=True)\n",
    "        \n",
    "    股東權益報酬率 = 稅後淨利.iloc[-1] / 權益總計.iloc[-1]\n",
    "    \n",
    "    \n",
    "    營業利益 = data.get('營業利益（損失）', 5)\n",
    "    營業利益成長率 = (營業利益.iloc[-1] / 營業利益.iloc[-5] - 1) * 100\n",
    "    \n",
    "    \n",
    "    當月營收 = data.get('當月營收', 4) * 1000\n",
    "    當季營收 = 當月營收.iloc[-4:].sum()\n",
    "    市值營收比 = 市值 / 當季營收\n",
    "    \n",
    "    \n",
    "    condition1 = (市值 < 1e10)\n",
    "    condition2 = 自由現金流 > 0\n",
    "    condition3 = 股東權益報酬率 > 0\n",
    "    condition4 = 營業利益成長率 > 0\n",
    "    condition5 = 市值營收比 < 5\n",
    "    \n",
    "    select_stock = condition1 & condition2 & condition3 & condition4 & condition5\n",
    "    \n",
    "    return select_stock[select_stock]"
   ]
  },
  {
   "cell_type": "markdown",
   "id": "1494d6a8",
   "metadata": {},
   "source": [
    "# 回測"
   ]
  },
  {
   "cell_type": "code",
   "execution_count": 20,
   "id": "205ae2a6",
   "metadata": {},
   "outputs": [
    {
     "name": "stdout",
     "output_type": "stream",
     "text": [
      "2017-01-01 - 2017-03-02 報酬率: 7.40 % nstock 127\n",
      "2017-03-02 - 2017-05-01 報酬率: 2.09 % nstock 126\n",
      "2017-05-01 - 2017-06-30 報酬率: 2.46 % nstock 102\n",
      "2017-06-30 - 2017-08-29 報酬率: 4.69 % nstock 83\n",
      "2017-08-29 - 2017-10-28 報酬率: 5.49 % nstock 82\n",
      "2017-10-28 - 2017-12-27 報酬率: 3.12 % nstock 82\n",
      "2017-12-27 - 2018-02-25 報酬率: 1.56 % nstock 88\n",
      "2018-02-25 - 2018-04-26 報酬率: 1.38 % nstock 86\n",
      "每次換手最大報酬 : 7.40 ％\n",
      "每次換手最少報酬 : 1.38 ％\n"
     ]
    },
    {
     "data": {
      "image/png": "[encoded data removed]",
      "text/plain": [
       "<Figure size 432x288 with 1 Axes>"
      ]
     },
     "metadata": {
      "needs_background": "light"
     },
     "output_type": "display_data"
    },
    {
     "data": {
      "image/png": "[encoded data removed]",
      "text/plain": [
       "<Figure size 432x288 with 1 Axes>"
      ]
     },
     "metadata": {
      "needs_background": "light"
     },
     "output_type": "display_data"
    },
    {
     "data": {
      "text/plain": [
       "(2017-01-04    1.000000\n",
       " 2017-01-05    1.006241\n",
       " 2017-01-06    1.009988\n",
       " 2017-01-09    1.004098\n",
       " 2017-01-10    1.002802\n",
       "                 ...   \n",
       " 2018-03-05    1.297182\n",
       " 2018-03-06    1.307829\n",
       " 2018-03-07    1.305008\n",
       " 2018-03-08    1.315819\n",
       " 2018-03-09    1.317281\n",
       " Length: 283, dtype: float64,\n",
       "           buy_price  sell_price  lowest_price  highest_price   buy_date  \\\n",
       " stock_id                                                                  \n",
       " 1203          22.90       23.90         22.85          24.35 2017-01-04   \n",
       " 1218          15.05       15.10         14.90          15.65 2017-01-04   \n",
       " 1231          32.00       31.85         31.65          32.55 2017-01-04   \n",
       " 1310          19.90       22.10         19.40          24.15 2017-01-04   \n",
       " 1323          34.10       34.05         32.60          34.35 2017-01-04   \n",
       " ...             ...         ...           ...            ...        ...   \n",
       " 8467          32.00       31.50         31.50          32.40 2018-02-27   \n",
       " 9911          37.75       37.35         37.00          37.75 2018-02-27   \n",
       " 9919          12.30       12.00         12.00          12.45 2018-02-27   \n",
       " 9927          39.80       39.50         39.50          40.00 2018-02-27   \n",
       " 9934          19.50       20.25         19.40          20.25 2018-02-27   \n",
       " \n",
       "           sell_date  profit(%)  \n",
       " stock_id                        \n",
       " 1203     2017-03-02   4.366812  \n",
       " 1218     2017-03-02   0.332226  \n",
       " 1231     2017-03-02  -0.468750  \n",
       " 1310     2017-03-02  11.055276  \n",
       " 1323     2017-03-02  -0.146628  \n",
       " ...             ...        ...  \n",
       " 8467     2018-03-09  -1.562500  \n",
       " 9911     2018-03-09  -1.059603  \n",
       " 9919     2018-03-09  -2.439024  \n",
       " 9927     2018-03-09  -0.753769  \n",
       " 9934     2018-03-09   3.846154  \n",
       " \n",
       " [775 rows x 7 columns])"
      ]
     },
     "execution_count": 20,
     "metadata": {},
     "output_type": "execute_result"
    },
    {
     "data": {
      "image/png": "[encoded data removed]",
      "text/plain": [
       "<Figure size 432x288 with 1 Axes>"
      ]
     },
     "metadata": {
      "needs_background": "light"
     },
     "output_type": "display_data"
    }
   ],
   "source": [
    "from finlab.backtest import backtest\n",
    "from finlab.data import Data\n",
    "import datetime\n",
    "\n",
    "#此為Finlab回測模組 之後需練習自己刻出\n",
    "%matplotlib inline\n",
    "data = Data()\n",
    "backtest(datetime.date(2017,1,1), datetime.date(2018,3,10), 60, mystrategy, data)"
   ]
  },
  {
   "cell_type": "code",
   "execution_count": null,
   "id": "f110aa4f",
   "metadata": {},
   "outputs": [],
   "source": []
  }
 ],
 "metadata": {
  "kernelspec": {
   "display_name": "Python 3 (ipykernel)",
   "language": "python",
   "name": "python3"
  },
  "language_info": {
   "codemirror_mode": {
    "name": "ipython",
    "version": 3
   },
   "file_extension": ".py",
   "mimetype": "text/x-python",
   "name": "python",
   "nbconvert_exporter": "python",
   "pygments_lexer": "ipython3",
   "version": "3.9.7"
  }
 },
 "nbformat": 4,
 "nbformat_minor": 5
}
